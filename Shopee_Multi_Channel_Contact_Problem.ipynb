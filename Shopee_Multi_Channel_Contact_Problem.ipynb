{
  "nbformat": 4,
  "nbformat_minor": 0,
  "metadata": {
    "kernelspec": {
      "display_name": "Python 3",
      "language": "python",
      "name": "python3"
    },
    "language_info": {
      "codemirror_mode": {
        "name": "ipython",
        "version": 3
      },
      "file_extension": ".py",
      "mimetype": "text/x-python",
      "name": "python",
      "nbconvert_exporter": "python",
      "pygments_lexer": "ipython3",
      "version": "3.6.12"
    },
    "colab": {
      "name": "Shopee_Tepar.ipynb",
      "provenance": [],
      "collapsed_sections": []
    }
  },
  "cells": [
    {
      "cell_type": "code",
      "metadata": {
        "id": "8HLWKHecmciO"
      },
      "source": [
        "import pandas as pd"
      ],
      "execution_count": 25,
      "outputs": []
    },
    {
      "cell_type": "code",
      "metadata": {
        "id": "mp-6zaXNmciZ"
      },
      "source": [
        "ctc=pd.read_json('https://drive.google.com/uc?export=download&id=1KECYQy-nuof5xfQUR_ZjzqZgSjdPyngd')"
      ],
      "execution_count": 38,
      "outputs": []
    },
    {
      "cell_type": "code",
      "metadata": {
        "id": "gsxWEmb9mcia"
      },
      "source": [
        "import numpy as np"
      ],
      "execution_count": 39,
      "outputs": []
    },
    {
      "cell_type": "code",
      "metadata": {
        "id": "AewwGj2Omcia"
      },
      "source": [
        "ctc=ctc.replace(r'^\\s*$', np.nan, regex=True)"
      ],
      "execution_count": 40,
      "outputs": []
    },
    {
      "cell_type": "code",
      "metadata": {
        "id": "Xv3a5l7Emcik"
      },
      "source": [
        "df_email=ctc.dropna(subset=['Email']).groupby(['Email']).size().sort_values()\n",
        "m_email=ctc[ctc.Email.isin(df_email[df_email>1].index)].groupby('Email').agg({'Id':'unique'})\n",
        "df_Phone=ctc.dropna(subset=['Phone']).groupby(['Phone']).size().sort_values()\n",
        "m_Phone=ctc[ctc.Phone.isin(df_Phone[df_Phone>1].index)].groupby('Phone').agg({'Id':'unique'})\n",
        "df_OrderId=ctc.dropna(subset=['OrderId']).groupby(['OrderId']).size().sort_values()\n",
        "m_OrderId=ctc[ctc.OrderId.isin(df_OrderId[df_OrderId>1].index)].groupby('OrderId').agg({'Id':'unique'})"
      ],
      "execution_count": 41,
      "outputs": []
    },
    {
      "cell_type": "code",
      "metadata": {
        "id": "4xH_GTK5mcil"
      },
      "source": [
        "m_email=m_email.reset_index()\n",
        "m_Phone=m_Phone.reset_index()\n",
        "m_OrderId=m_OrderId.reset_index()"
      ],
      "execution_count": 42,
      "outputs": []
    },
    {
      "cell_type": "code",
      "metadata": {
        "colab": {
          "base_uri": "https://localhost:8080/"
        },
        "id": "Ksn_7pdRmcil",
        "outputId": "25bce74b-e85b-4f7c-8389-d8aadbcb5990"
      },
      "source": [
        "b=m_email.Id.append(m_Phone.Id).append(m_OrderId.Id).values.tolist()\r\n",
        "list_b=[list(x) for x in b]\r\n",
        "\r\n",
        "def pairs(lst):\r\n",
        "    i = iter(lst)\r\n",
        "    first = prev = item = i.__next__()\r\n",
        "    for item in i:\r\n",
        "        yield prev, item\r\n",
        "        prev = item\r\n",
        "    yield item, first\r\n",
        "\r\n",
        "list_b\r\n",
        "\r\n",
        "import networkx\r\n",
        "g = networkx.Graph()\r\n",
        "for sub_list in list_b:\r\n",
        "    for edge in pairs(sub_list):\r\n",
        "            g.add_edge(*edge)\r\n",
        "\r\n",
        "list_con=[c for c in sorted(networkx.connected_components(g), key=len, reverse=True)]"
      ],
      "execution_count": 44,
      "outputs": [
        {
          "output_type": "execute_result",
          "data": {
            "text/plain": [
              "<generator object connected_components at 0x7f0aa2bead50>"
            ]
          },
          "metadata": {
            "tags": []
          },
          "execution_count": 44
        }
      ]
    },
    {
      "cell_type": "code",
      "metadata": {
        "id": "MQgeQAEXuSZ5"
      },
      "source": [
        "d_subm={'ticket_id':[],\r\n",
        "        'ticket_trace':[],\r\n",
        "        'Contacts':[]}\r\n",
        "\r\n",
        "for i in list_con:\r\n",
        "  trace=sorted(list(i))\r\n",
        "  d_subm['ticket_id'].append(trace[0])\r\n",
        "  d_subm['ticket_trace'].append(trace)\r\n",
        "  d_subm['Contacts'].append(ctc[ctc.Id.isin(trace)]['Contacts'].sum())"
      ],
      "execution_count": 77,
      "outputs": []
    },
    {
      "cell_type": "code",
      "metadata": {
        "id": "8V4XF1Jstq5m"
      },
      "source": [
        "df_submission=pd.DataFrame(d_subm)"
      ],
      "execution_count": 78,
      "outputs": []
    },
    {
      "cell_type": "code",
      "metadata": {
        "id": "oYUMpUwi0RVR"
      },
      "source": [
        "df_single=ctc[~ctc.Id.isin(df_submission.ticket_id)][['Id','Contacts']].rename(columns={'Id':'ticket_id'})"
      ],
      "execution_count": 88,
      "outputs": []
    },
    {
      "cell_type": "code",
      "metadata": {
        "id": "pyw1ReIa1Hl7"
      },
      "source": [
        "df_single['ticket_trace']=df_single.ticket_id"
      ],
      "execution_count": 89,
      "outputs": []
    },
    {
      "cell_type": "code",
      "metadata": {
        "id": "uGRXLS2ztbup"
      },
      "source": [
        "df_finalize=pd.concat([df_submission,df_single]).sort_values('ticket_id').reset_index(drop=True)"
      ],
      "execution_count": 93,
      "outputs": []
    },
    {
      "cell_type": "code",
      "metadata": {
        "colab": {
          "base_uri": "https://localhost:8080/",
          "height": 419
        },
        "id": "BVeQDTki19v9",
        "outputId": "f8a9b50c-cfe9-4d58-fcf5-f185f0015aaf"
      },
      "source": [
        "ctc"
      ],
      "execution_count": 95,
      "outputs": [
        {
          "output_type": "execute_result",
          "data": {
            "text/html": [
              "<div>\n",
              "<style scoped>\n",
              "    .dataframe tbody tr th:only-of-type {\n",
              "        vertical-align: middle;\n",
              "    }\n",
              "\n",
              "    .dataframe tbody tr th {\n",
              "        vertical-align: top;\n",
              "    }\n",
              "\n",
              "    .dataframe thead th {\n",
              "        text-align: right;\n",
              "    }\n",
              "</style>\n",
              "<table border=\"1\" class=\"dataframe\">\n",
              "  <thead>\n",
              "    <tr style=\"text-align: right;\">\n",
              "      <th></th>\n",
              "      <th>Id</th>\n",
              "      <th>Email</th>\n",
              "      <th>Phone</th>\n",
              "      <th>Contacts</th>\n",
              "      <th>OrderId</th>\n",
              "    </tr>\n",
              "  </thead>\n",
              "  <tbody>\n",
              "    <tr>\n",
              "      <th>0</th>\n",
              "      <td>0</td>\n",
              "      <td>gkzAbIy@qq.com</td>\n",
              "      <td>NaN</td>\n",
              "      <td>1</td>\n",
              "      <td>NaN</td>\n",
              "    </tr>\n",
              "    <tr>\n",
              "      <th>1</th>\n",
              "      <td>1</td>\n",
              "      <td>NaN</td>\n",
              "      <td>329442681752</td>\n",
              "      <td>4</td>\n",
              "      <td>vDDJJcxfLtSfkooPhbYnJdxov</td>\n",
              "    </tr>\n",
              "    <tr>\n",
              "      <th>2</th>\n",
              "      <td>2</td>\n",
              "      <td>NaN</td>\n",
              "      <td>9125983679</td>\n",
              "      <td>0</td>\n",
              "      <td>NaN</td>\n",
              "    </tr>\n",
              "    <tr>\n",
              "      <th>3</th>\n",
              "      <td>3</td>\n",
              "      <td>mdllpYmE@gmail.com</td>\n",
              "      <td>NaN</td>\n",
              "      <td>0</td>\n",
              "      <td>bHquEnCbbsGLqllwryxPsNOxa</td>\n",
              "    </tr>\n",
              "    <tr>\n",
              "      <th>4</th>\n",
              "      <td>4</td>\n",
              "      <td>NaN</td>\n",
              "      <td>300364407</td>\n",
              "      <td>2</td>\n",
              "      <td>NaN</td>\n",
              "    </tr>\n",
              "    <tr>\n",
              "      <th>...</th>\n",
              "      <td>...</td>\n",
              "      <td>...</td>\n",
              "      <td>...</td>\n",
              "      <td>...</td>\n",
              "      <td>...</td>\n",
              "    </tr>\n",
              "    <tr>\n",
              "      <th>499995</th>\n",
              "      <td>499995</td>\n",
              "      <td>NaN</td>\n",
              "      <td>10072395382</td>\n",
              "      <td>2</td>\n",
              "      <td>whJlUOGNqjxCRzmIRdURQvlNv</td>\n",
              "    </tr>\n",
              "    <tr>\n",
              "      <th>499996</th>\n",
              "      <td>499996</td>\n",
              "      <td>NaN</td>\n",
              "      <td>571709661031</td>\n",
              "      <td>4</td>\n",
              "      <td>JqIXOONvrwvJxZqNxCYHqnrKS</td>\n",
              "    </tr>\n",
              "    <tr>\n",
              "      <th>499997</th>\n",
              "      <td>499997</td>\n",
              "      <td>NaN</td>\n",
              "      <td>4541459979</td>\n",
              "      <td>2</td>\n",
              "      <td>beXCZSzcHaBwAYoDcpQqjuAFO</td>\n",
              "    </tr>\n",
              "    <tr>\n",
              "      <th>499998</th>\n",
              "      <td>499998</td>\n",
              "      <td>RzSDsyH@hotmail.com</td>\n",
              "      <td>98947185431</td>\n",
              "      <td>1</td>\n",
              "      <td>ehjeFACGiwrERQxbziMxwOWku</td>\n",
              "    </tr>\n",
              "    <tr>\n",
              "      <th>499999</th>\n",
              "      <td>499999</td>\n",
              "      <td>NaN</td>\n",
              "      <td>880053388839</td>\n",
              "      <td>0</td>\n",
              "      <td>JibSBRgzYdfzkzbTuGUXrcvDX</td>\n",
              "    </tr>\n",
              "  </tbody>\n",
              "</table>\n",
              "<p>500000 rows × 5 columns</p>\n",
              "</div>"
            ],
            "text/plain": [
              "            Id                Email  ... Contacts                    OrderId\n",
              "0            0       gkzAbIy@qq.com  ...        1                        NaN\n",
              "1            1                  NaN  ...        4  vDDJJcxfLtSfkooPhbYnJdxov\n",
              "2            2                  NaN  ...        0                        NaN\n",
              "3            3   mdllpYmE@gmail.com  ...        0  bHquEnCbbsGLqllwryxPsNOxa\n",
              "4            4                  NaN  ...        2                        NaN\n",
              "...        ...                  ...  ...      ...                        ...\n",
              "499995  499995                  NaN  ...        2  whJlUOGNqjxCRzmIRdURQvlNv\n",
              "499996  499996                  NaN  ...        4  JqIXOONvrwvJxZqNxCYHqnrKS\n",
              "499997  499997                  NaN  ...        2  beXCZSzcHaBwAYoDcpQqjuAFO\n",
              "499998  499998  RzSDsyH@hotmail.com  ...        1  ehjeFACGiwrERQxbziMxwOWku\n",
              "499999  499999                  NaN  ...        0  JibSBRgzYdfzkzbTuGUXrcvDX\n",
              "\n",
              "[500000 rows x 5 columns]"
            ]
          },
          "metadata": {
            "tags": []
          },
          "execution_count": 95
        }
      ]
    },
    {
      "cell_type": "code",
      "metadata": {
        "colab": {
          "base_uri": "https://localhost:8080/",
          "height": 419
        },
        "id": "1oR38OP11ecx",
        "outputId": "e867400b-4267-4c30-8e46-d123125839a3"
      },
      "source": [
        "df_finalize"
      ],
      "execution_count": 94,
      "outputs": [
        {
          "output_type": "execute_result",
          "data": {
            "text/html": [
              "<div>\n",
              "<style scoped>\n",
              "    .dataframe tbody tr th:only-of-type {\n",
              "        vertical-align: middle;\n",
              "    }\n",
              "\n",
              "    .dataframe tbody tr th {\n",
              "        vertical-align: top;\n",
              "    }\n",
              "\n",
              "    .dataframe thead th {\n",
              "        text-align: right;\n",
              "    }\n",
              "</style>\n",
              "<table border=\"1\" class=\"dataframe\">\n",
              "  <thead>\n",
              "    <tr style=\"text-align: right;\">\n",
              "      <th></th>\n",
              "      <th>ticket_id</th>\n",
              "      <th>ticket_trace</th>\n",
              "      <th>Contacts</th>\n",
              "    </tr>\n",
              "  </thead>\n",
              "  <tbody>\n",
              "    <tr>\n",
              "      <th>0</th>\n",
              "      <td>0</td>\n",
              "      <td>0</td>\n",
              "      <td>1</td>\n",
              "    </tr>\n",
              "    <tr>\n",
              "      <th>1</th>\n",
              "      <td>1</td>\n",
              "      <td>[1, 2458, 98519, 115061, 140081, 165605, 476346]</td>\n",
              "      <td>12</td>\n",
              "    </tr>\n",
              "    <tr>\n",
              "      <th>2</th>\n",
              "      <td>2</td>\n",
              "      <td>[2, 159312, 322639, 348955]</td>\n",
              "      <td>4</td>\n",
              "    </tr>\n",
              "    <tr>\n",
              "      <th>3</th>\n",
              "      <td>3</td>\n",
              "      <td>3</td>\n",
              "      <td>0</td>\n",
              "    </tr>\n",
              "    <tr>\n",
              "      <th>4</th>\n",
              "      <td>4</td>\n",
              "      <td>4</td>\n",
              "      <td>2</td>\n",
              "    </tr>\n",
              "    <tr>\n",
              "      <th>...</th>\n",
              "      <td>...</td>\n",
              "      <td>...</td>\n",
              "      <td>...</td>\n",
              "    </tr>\n",
              "    <tr>\n",
              "      <th>499995</th>\n",
              "      <td>499995</td>\n",
              "      <td>499995</td>\n",
              "      <td>2</td>\n",
              "    </tr>\n",
              "    <tr>\n",
              "      <th>499996</th>\n",
              "      <td>499996</td>\n",
              "      <td>499996</td>\n",
              "      <td>4</td>\n",
              "    </tr>\n",
              "    <tr>\n",
              "      <th>499997</th>\n",
              "      <td>499997</td>\n",
              "      <td>499997</td>\n",
              "      <td>2</td>\n",
              "    </tr>\n",
              "    <tr>\n",
              "      <th>499998</th>\n",
              "      <td>499998</td>\n",
              "      <td>499998</td>\n",
              "      <td>1</td>\n",
              "    </tr>\n",
              "    <tr>\n",
              "      <th>499999</th>\n",
              "      <td>499999</td>\n",
              "      <td>499999</td>\n",
              "      <td>0</td>\n",
              "    </tr>\n",
              "  </tbody>\n",
              "</table>\n",
              "<p>500000 rows × 3 columns</p>\n",
              "</div>"
            ],
            "text/plain": [
              "        ticket_id                                      ticket_trace  Contacts\n",
              "0               0                                                 0         1\n",
              "1               1  [1, 2458, 98519, 115061, 140081, 165605, 476346]        12\n",
              "2               2                       [2, 159312, 322639, 348955]         4\n",
              "3               3                                                 3         0\n",
              "4               4                                                 4         2\n",
              "...           ...                                               ...       ...\n",
              "499995     499995                                            499995         2\n",
              "499996     499996                                            499996         4\n",
              "499997     499997                                            499997         2\n",
              "499998     499998                                            499998         1\n",
              "499999     499999                                            499999         0\n",
              "\n",
              "[500000 rows x 3 columns]"
            ]
          },
          "metadata": {
            "tags": []
          },
          "execution_count": 94
        }
      ]
    },
    {
      "cell_type": "code",
      "metadata": {
        "id": "RXqX3UNimcit"
      },
      "source": [
        ""
      ],
      "execution_count": null,
      "outputs": []
    }
  ]
}